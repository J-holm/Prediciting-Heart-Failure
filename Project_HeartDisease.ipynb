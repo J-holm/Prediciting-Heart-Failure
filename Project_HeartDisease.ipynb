{
 "cells": [
  {
   "cell_type": "markdown",
   "id": "fd7b2d9d",
   "metadata": {},
   "source": [
    "# Dataset\n",
    "\n",
    "- Dataset downloaded fr. Kaggle.com.\n",
    "- Includes information on Cardiovascular Disease and related risk factors. \n",
    "- Utilizing a simple Machine Learning algorithm we can potentially detect and predict the risk for heart disease in a patient, which can be used to flag\n",
    " individuals at risk at initiate risk reducing medical measures.\n"
   ]
  },
  {
   "cell_type": "markdown",
   "id": "a953d744",
   "metadata": {},
   "source": [
    "## Feature Information"
   ]
  },
  {
   "cell_type": "markdown",
   "id": "c66edc4d",
   "metadata": {},
   "source": [
    "Attribute Information\n",
    "\n",
    "- Age: age of the patient [years]\n",
    "- Sex: sex of the patient [M: Male, F: Female]\n",
    "- ChestPainType: chest pain type [TA: Typical Angina, ATA: Atypical Angina, NAP: Non-Anginal Pain, ASY: Asymptomatic]\n",
    "- RestingBP: resting blood pressure [mm Hg]\n",
    "- Cholesterol: serum cholesterol [mm/dl]\n",
    "- FastingBS: fasting blood sugar [1: if FastingBS > 120 mg/dl, 0: otherwise]\n",
    "- RestingECG: resting electrocardiogram results [Normal: Normal, ST: having ST-T wave abnormality (T wave inversions and/or ST elevation or depression of > 0.05 mV), LVH: showing probable or definite left ventricular hypertrophy by Estes' criteria]\n",
    "- MaxHR: maximum heart rate achieved [Numeric value between 60 and 202]\n",
    "- ExerciseAngina: exercise-induced angina [Y: Yes, N: No]\n",
    "- Oldpeak: oldpeak = ST [Numeric value measured in depression]\n",
    "- ST_Slope: the slope of the peak exercise ST segment [Up: upsloping, Flat: flat, Down: downsloping]\n",
    "- HeartDisease: output class [1: heart disease, 0: Normal]\n",
    "\n",
    "- Source : https://www.kaggle.com/fedesoriano/heart-failure-prediction"
   ]
  },
  {
   "cell_type": "code",
   "execution_count": 164,
   "id": "26b7a83a",
   "metadata": {
    "scrolled": true
   },
   "outputs": [
    {
     "data": {
      "text/html": [
       "<div>\n",
       "<style scoped>\n",
       "    .dataframe tbody tr th:only-of-type {\n",
       "        vertical-align: middle;\n",
       "    }\n",
       "\n",
       "    .dataframe tbody tr th {\n",
       "        vertical-align: top;\n",
       "    }\n",
       "\n",
       "    .dataframe thead th {\n",
       "        text-align: right;\n",
       "    }\n",
       "</style>\n",
       "<table border=\"1\" class=\"dataframe\">\n",
       "  <thead>\n",
       "    <tr style=\"text-align: right;\">\n",
       "      <th></th>\n",
       "      <th>Age</th>\n",
       "      <th>Sex</th>\n",
       "      <th>ChestPainType</th>\n",
       "      <th>RestingBP</th>\n",
       "      <th>Cholesterol</th>\n",
       "      <th>FastingBS</th>\n",
       "      <th>RestingECG</th>\n",
       "      <th>MaxHR</th>\n",
       "      <th>ExerciseAngina</th>\n",
       "      <th>Oldpeak</th>\n",
       "      <th>ST_Slope</th>\n",
       "      <th>HeartDisease</th>\n",
       "    </tr>\n",
       "  </thead>\n",
       "  <tbody>\n",
       "    <tr>\n",
       "      <th>0</th>\n",
       "      <td>40</td>\n",
       "      <td>M</td>\n",
       "      <td>ATA</td>\n",
       "      <td>140</td>\n",
       "      <td>289</td>\n",
       "      <td>0</td>\n",
       "      <td>Normal</td>\n",
       "      <td>172</td>\n",
       "      <td>N</td>\n",
       "      <td>0.0</td>\n",
       "      <td>Up</td>\n",
       "      <td>0</td>\n",
       "    </tr>\n",
       "    <tr>\n",
       "      <th>1</th>\n",
       "      <td>49</td>\n",
       "      <td>F</td>\n",
       "      <td>NAP</td>\n",
       "      <td>160</td>\n",
       "      <td>180</td>\n",
       "      <td>0</td>\n",
       "      <td>Normal</td>\n",
       "      <td>156</td>\n",
       "      <td>N</td>\n",
       "      <td>1.0</td>\n",
       "      <td>Flat</td>\n",
       "      <td>1</td>\n",
       "    </tr>\n",
       "    <tr>\n",
       "      <th>2</th>\n",
       "      <td>37</td>\n",
       "      <td>M</td>\n",
       "      <td>ATA</td>\n",
       "      <td>130</td>\n",
       "      <td>283</td>\n",
       "      <td>0</td>\n",
       "      <td>ST</td>\n",
       "      <td>98</td>\n",
       "      <td>N</td>\n",
       "      <td>0.0</td>\n",
       "      <td>Up</td>\n",
       "      <td>0</td>\n",
       "    </tr>\n",
       "    <tr>\n",
       "      <th>3</th>\n",
       "      <td>48</td>\n",
       "      <td>F</td>\n",
       "      <td>ASY</td>\n",
       "      <td>138</td>\n",
       "      <td>214</td>\n",
       "      <td>0</td>\n",
       "      <td>Normal</td>\n",
       "      <td>108</td>\n",
       "      <td>Y</td>\n",
       "      <td>1.5</td>\n",
       "      <td>Flat</td>\n",
       "      <td>1</td>\n",
       "    </tr>\n",
       "    <tr>\n",
       "      <th>4</th>\n",
       "      <td>54</td>\n",
       "      <td>M</td>\n",
       "      <td>NAP</td>\n",
       "      <td>150</td>\n",
       "      <td>195</td>\n",
       "      <td>0</td>\n",
       "      <td>Normal</td>\n",
       "      <td>122</td>\n",
       "      <td>N</td>\n",
       "      <td>0.0</td>\n",
       "      <td>Up</td>\n",
       "      <td>0</td>\n",
       "    </tr>\n",
       "  </tbody>\n",
       "</table>\n",
       "</div>"
      ],
      "text/plain": [
       "   Age Sex ChestPainType  RestingBP  Cholesterol  FastingBS RestingECG  MaxHR  \\\n",
       "0   40   M           ATA        140          289          0     Normal    172   \n",
       "1   49   F           NAP        160          180          0     Normal    156   \n",
       "2   37   M           ATA        130          283          0         ST     98   \n",
       "3   48   F           ASY        138          214          0     Normal    108   \n",
       "4   54   M           NAP        150          195          0     Normal    122   \n",
       "\n",
       "  ExerciseAngina  Oldpeak ST_Slope  HeartDisease  \n",
       "0              N      0.0       Up             0  \n",
       "1              N      1.0     Flat             1  \n",
       "2              N      0.0       Up             0  \n",
       "3              Y      1.5     Flat             1  \n",
       "4              N      0.0       Up             0  "
      ]
     },
     "execution_count": 164,
     "metadata": {},
     "output_type": "execute_result"
    }
   ],
   "source": [
    "import pandas as pd\n",
    "import seaborn as sns\n",
    "\n",
    "heart_disease = pd.read_csv('heart.csv')\n",
    "\n",
    "heart_disease.head()"
   ]
  },
  {
   "cell_type": "markdown",
   "id": "708ac785",
   "metadata": {},
   "source": [
    "# Problem Formulation\n",
    "\n",
    "- Can we training a machine learning algorithm to predict the prevalence of heart disease in a sample of patients, generalize the findings and estimate the risk of heart disease in a new sample of patients?\n"
   ]
  },
  {
   "cell_type": "markdown",
   "id": "2fef6516",
   "metadata": {},
   "source": [
    "# Data Visualization"
   ]
  },
  {
   "cell_type": "code",
   "execution_count": 165,
   "id": "a9d283af",
   "metadata": {},
   "outputs": [],
   "source": [
    "# Setting palette\n",
    "\n",
    "colors = [\"#fee6ce\", \"#fdae6b\", \"#e6550d\"]\n",
    "sns.set_palette(sns.color_palette('tab20c'))"
   ]
  },
  {
   "cell_type": "markdown",
   "id": "bacbeebb",
   "metadata": {},
   "source": [
    "## Data Composition"
   ]
  },
  {
   "cell_type": "code",
   "execution_count": 365,
   "id": "f9759ebf",
   "metadata": {},
   "outputs": [
    {
     "data": {
      "image/png": "[encoded data removed]",
      "text/plain": [
       "<Figure size 432x288 with 1 Axes>"
      ]
     },
     "metadata": {},
     "output_type": "display_data"
    },
    {
     "data": {
      "image/png": "[encoded data removed]",
      "text/plain": [
       "<Figure size 648x360 with 2 Axes>"
      ]
     },
     "metadata": {},
     "output_type": "display_data"
    },
    {
     "data": {
      "image/png": "[encoded data removed]",
      "text/plain": [
       "<Figure size 404.375x360 with 1 Axes>"
      ]
     },
     "metadata": {},
     "output_type": "display_data"
    }
   ],
   "source": [
    "import matplotlib.pyplot as plt\n",
    "\n",
    "# Configurating plot\n",
    "sns.set_style(\"ticks\")\n",
    "plt.title(\"Cases of Heart Disease\", fontsize = 15)\n",
    "# make figure and assign axis objects\n",
    "fig, (ax1, ax2) = plt.subplots(1, 2, figsize=(9, 5))\n",
    "\n",
    "\n",
    "m_f = sns.countplot(data = heart_disease, x = 'Sex')\n",
    "sns.despine()\n",
    "share_of_total = heart_disease['HeartDisease'].value_counts(normalize=True)\n",
    "share_of_total\n",
    "g = sns.catplot(data = heart_disease, x = 'HeartDisease', hue = 'Sex', kind = 'count')\n",
    "g.set_xticklabels([\"No Heart Disease\", \"Heart Disease\"])\n",
    "sns.despine()\n"
   ]
  },
  {
   "cell_type": "code",
   "execution_count": 420,
   "id": "8b32812c",
   "metadata": {},
   "outputs": [
    {
     "name": "stdout",
     "output_type": "stream",
     "text": [
      "HeartDisease  Sex\n",
      "0             M      0.651220\n",
      "              F      0.348780\n",
      "1             M      0.901575\n",
      "              F      0.098425\n",
      "Name: Sex, dtype: float64\n",
      "(50, 65]     0.566449\n",
      "(40, 50]     0.242919\n",
      "(30, 40]     0.095861\n",
      "(65, 100]    0.089325\n",
      "(20, 30]     0.005447\n",
      "(0, 20]      0.000000\n",
      "Name: Age, dtype: float64\n"
     ]
    }
   ],
   "source": [
    "# Share of total\n",
    "\n",
    "HeartDisease_sha = heart_disease.HeartDisease.value_counts(normalize=True)\n",
    "\n",
    "# Share of men and women with Heart Disease\n",
    "\n",
    "HeartDisease_sex = heart_disease.groupby('HeartDisease').Sex.value_counts(normalize=True)\n",
    "print(HeartDisease_sex)\n",
    "\n",
    "age_groups = pd.cut(heart_disease['Age'], bins=[0, 20, 30, 40, 50, 65, 100]).value_counts(normalize=True)\n",
    "print(age_groups)\n",
    "#HeartDisease_age = heart_disease.groupby('HeartDisease').Age.value_counts(normalize=True)\n",
    "#print(HeartDisease_sex)"
   ]
  },
  {
   "cell_type": "code",
   "execution_count": 405,
   "id": "edae345a",
   "metadata": {},
   "outputs": [
    {
     "data": {
      "image/png": "[encoded data removed]",
      "text/plain": [
       "<Figure size 1080x720 with 2 Axes>"
      ]
     },
     "metadata": {},
     "output_type": "display_data"
    }
   ],
   "source": [
    "import matplotlib.pyplot as plt\n",
    "from matplotlib.patches import ConnectionPatch\n",
    "import numpy as np\n",
    "\n",
    "\n",
    "# make figure and assign axis objects\n",
    "fig, (ax1, ax2) = plt.subplots(1, 2, figsize=(15, 10))\n",
    "plt.title(\"Cases of Heart Failure\", fontsize = 20)\n",
    "\n",
    "# pie chart parameters\n",
    "ratios = [0.446623, 0.553377]\n",
    "labels = ['No Heart Failure', 'Heart Failure']\n",
    "explode = [0.02, 0]\n",
    "# rotate so that first wedge is split by the x-axis\n",
    "angle = -180 * ratios[0]\n",
    "ax1.pie(ratios, autopct='%1.1f%%', startangle=angle,\n",
    "        labels=labels, explode=explode)\n",
    "\n",
    "# bar chart parameters\n",
    "\n",
    "xpos = 0\n",
    "bottom = 0\n",
    "ratios = [0.095861,0.242919, 0.566449, 0.089325]\n",
    "width = .2\n",
    "colors = [[.1, 0.1, .5], [.1, .4, .5], [.4, .2, .6], [.1, .3, .9]]\n",
    "\n",
    "for j in range(len(ratios)):\n",
    "    height = ratios[j]\n",
    "    ax2.bar(xpos, height, width, bottom=bottom, color=colors[j])\n",
    "    ypos = bottom + ax2.patches[j].get_height() / 4\n",
    "    bottom += height\n",
    "    ax2.text(xpos+0.2, ypos, \"%d%%\" % (ax2.patches[j].get_height() * 100),\n",
    "             ha='right')\n",
    "\n",
    "ax2.set_title('Age Groups Total Sample')\n",
    "ax2.legend(('20-30', '30-40', '40-50', '50-65', '65+'))\n",
    "ax2.axis('off')\n",
    "ax2.set_xlim(- 2.5 * width, 2.5 * width)\n",
    "\n",
    "\n",
    "\n",
    "\n",
    "plt.show()"
   ]
  },
  {
   "cell_type": "code",
   "execution_count": 423,
   "id": "9a7f3174",
   "metadata": {},
   "outputs": [
    {
     "data": {
      "image/png": "[encoded data removed]",
      "text/plain": [
       "<Figure size 1080x720 with 1 Axes>"
      ]
     },
     "metadata": {},
     "output_type": "display_data"
    }
   ],
   "source": [
    "# Pie Chart Men and Women given that they have heart disease\n",
    "\n",
    "import matplotlib.pyplot as plt\n",
    "from matplotlib.patches import ConnectionPatch\n",
    "import numpy as np\n",
    "\n",
    "\n",
    "# Share of men and women with Heart Disease\n",
    "\n",
    "heart_disease.groupby('Sex').HeartDisease\n",
    "\n",
    "\n",
    "\n",
    "# make figure and assign axis objects\n",
    "fig, (ax1) = plt.subplots(1, figsize=(15, 10))\n",
    "fig.subplots_adjust(wspace=0)\n",
    "plt.title(\"Patients Suffering Heart Failure by Gender\", fontsize = 20)\n",
    "\n",
    "# pie chart parameters\n",
    "ratios = [0.901575, 0.098425]\n",
    "labels = ['Men', 'Women']\n",
    "explode = [0.05, 0]\n",
    "# rotate so that first wedge is split by the x-axis\n",
    "angle = -180 * ratios[0]\n",
    "ax1.pie(ratios, autopct='%1.1f%%', startangle=angle,\n",
    "        labels=labels, explode=explode)\n",
    "\n",
    "# bar chart parameters\n",
    "\n",
    "xpos = 0\n",
    "bottom = 0\n",
    "ratios = [0.095861,0.242919, 0.566449, 0.089325]\n",
    "width = .2\n",
    "colors = [[.1, 0.1, .5], [.1, .2, .5], [.4, .2, .6], [.1, .3, .9]]\n",
    "\n",
    "for j in range(len(ratios)):\n",
    "    height = ratios[j]\n",
    "    ax2.bar(xpos, height, width, bottom=bottom, color=colors[j])\n",
    "    ypos = bottom + ax2.patches[j].get_height() / 2\n",
    "    bottom += height\n",
    "    ax2.text(xpos+0.2, ypos, \"%d%%\" % (ax2.patches[j].get_height() * 100),\n",
    "             ha='right')\n",
    "\n",
    "ax2.set_title('Age Group Distribution')\n",
    "ax2.legend(('20-30', '30-40', '40-50', '50-65', '65+'))\n",
    "ax2.axis('off')\n",
    "ax2.set_xlim(- 2.5 * width, 2.5 * width)\n",
    "\n",
    "\n",
    "\n",
    "plt.show()"
   ]
  },
  {
   "cell_type": "code",
   "execution_count": 329,
   "id": "3ac339d9",
   "metadata": {},
   "outputs": [
    {
     "data": {
      "text/plain": [
       "0"
      ]
     },
     "execution_count": 329,
     "metadata": {},
     "output_type": "execute_result"
    }
   ],
   "source": []
  },
  {
   "cell_type": "markdown",
   "id": "4ff622ab",
   "metadata": {},
   "source": [
    "## Focusing on patients having a Heart Disease"
   ]
  },
  {
   "cell_type": "code",
   "execution_count": 325,
   "id": "e8955cd5",
   "metadata": {},
   "outputs": [
    {
     "data": {
      "text/plain": [
       "<seaborn.axisgrid.FacetGrid at 0x1640a4040>"
      ]
     },
     "execution_count": 325,
     "metadata": {},
     "output_type": "execute_result"
    },
    {
     "data": {
      "image/png": "[encoded data removed]",
      "text/plain": [
       "<Figure size 414.5x360 with 1 Axes>"
      ]
     },
     "metadata": {},
     "output_type": "display_data"
    }
   ],
   "source": [
    "g2 = sns.catplot(data = heart_disease, x = 'HeartDisease', hue = 'FastingBS', kind = 'count')\n",
    "plt.title(\"Cases of Heart Disease\", fontsize = 15)\n",
    "g2.set_xticklabels([\"No Heart Disease\", \"Heart Disease\"])"
   ]
  },
  {
   "cell_type": "markdown",
   "id": "43101073",
   "metadata": {},
   "source": [
    "# Training the model"
   ]
  },
  {
   "cell_type": "code",
   "execution_count": 6,
   "id": "b7bb0420",
   "metadata": {},
   "outputs": [
    {
     "name": "stdout",
     "output_type": "stream",
     "text": [
      "<class 'pandas.core.frame.DataFrame'>\n",
      "RangeIndex: 918 entries, 0 to 917\n",
      "Data columns (total 12 columns):\n",
      " #   Column          Non-Null Count  Dtype  \n",
      "---  ------          --------------  -----  \n",
      " 0   Age             918 non-null    int64  \n",
      " 1   Sex             918 non-null    object \n",
      " 2   ChestPainType   918 non-null    object \n",
      " 3   RestingBP       918 non-null    int64  \n",
      " 4   Cholesterol     918 non-null    int64  \n",
      " 5   FastingBS       918 non-null    int64  \n",
      " 6   RestingECG      918 non-null    object \n",
      " 7   MaxHR           918 non-null    int64  \n",
      " 8   ExerciseAngina  918 non-null    object \n",
      " 9   Oldpeak         918 non-null    float64\n",
      " 10  ST_Slope        918 non-null    object \n",
      " 11  HeartDisease    918 non-null    int64  \n",
      "dtypes: float64(1), int64(6), object(5)\n",
      "memory usage: 86.2+ KB\n"
     ]
    }
   ],
   "source": [
    "heart_disease.info()"
   ]
  },
  {
   "cell_type": "code",
   "execution_count": 5,
   "id": "d607f75e",
   "metadata": {},
   "outputs": [
    {
     "data": {
      "text/plain": [
       "Index(['Age', 'Sex', 'ChestPainType', 'RestingBP', 'Cholesterol', 'FastingBS',\n",
       "       'RestingECG', 'MaxHR', 'ExerciseAngina', 'Oldpeak', 'ST_Slope',\n",
       "       'HeartDisease'],\n",
       "      dtype='object')"
      ]
     },
     "execution_count": 5,
     "metadata": {},
     "output_type": "execute_result"
    }
   ],
   "source": [
    "heart_disease.columns"
   ]
  },
  {
   "cell_type": "markdown",
   "id": "a99eb660",
   "metadata": {},
   "source": [
    "## Adjusting Columns to Enable Analysis"
   ]
  },
  {
   "cell_type": "code",
   "execution_count": 15,
   "id": "d13e5630",
   "metadata": {},
   "outputs": [
    {
     "data": {
      "text/html": [
       "<div>\n",
       "<style scoped>\n",
       "    .dataframe tbody tr th:only-of-type {\n",
       "        vertical-align: middle;\n",
       "    }\n",
       "\n",
       "    .dataframe tbody tr th {\n",
       "        vertical-align: top;\n",
       "    }\n",
       "\n",
       "    .dataframe thead th {\n",
       "        text-align: right;\n",
       "    }\n",
       "</style>\n",
       "<table border=\"1\" class=\"dataframe\">\n",
       "  <thead>\n",
       "    <tr style=\"text-align: right;\">\n",
       "      <th></th>\n",
       "      <th>Age</th>\n",
       "      <th>Sex</th>\n",
       "      <th>ChestPainType</th>\n",
       "      <th>RestingBP</th>\n",
       "      <th>Cholesterol</th>\n",
       "      <th>FastingBS</th>\n",
       "      <th>RestingECG</th>\n",
       "      <th>MaxHR</th>\n",
       "      <th>ExerciseAngina</th>\n",
       "      <th>Oldpeak</th>\n",
       "      <th>ST_Slope</th>\n",
       "      <th>HeartDisease</th>\n",
       "    </tr>\n",
       "  </thead>\n",
       "  <tbody>\n",
       "    <tr>\n",
       "      <th>0</th>\n",
       "      <td>40</td>\n",
       "      <td>M</td>\n",
       "      <td>ATA</td>\n",
       "      <td>140</td>\n",
       "      <td>289</td>\n",
       "      <td>0</td>\n",
       "      <td>Normal</td>\n",
       "      <td>172</td>\n",
       "      <td>0</td>\n",
       "      <td>0.0</td>\n",
       "      <td>Up</td>\n",
       "      <td>0</td>\n",
       "    </tr>\n",
       "    <tr>\n",
       "      <th>1</th>\n",
       "      <td>49</td>\n",
       "      <td>F</td>\n",
       "      <td>NAP</td>\n",
       "      <td>160</td>\n",
       "      <td>180</td>\n",
       "      <td>0</td>\n",
       "      <td>Normal</td>\n",
       "      <td>156</td>\n",
       "      <td>0</td>\n",
       "      <td>1.0</td>\n",
       "      <td>Flat</td>\n",
       "      <td>1</td>\n",
       "    </tr>\n",
       "    <tr>\n",
       "      <th>2</th>\n",
       "      <td>37</td>\n",
       "      <td>M</td>\n",
       "      <td>ATA</td>\n",
       "      <td>130</td>\n",
       "      <td>283</td>\n",
       "      <td>0</td>\n",
       "      <td>ST</td>\n",
       "      <td>98</td>\n",
       "      <td>0</td>\n",
       "      <td>0.0</td>\n",
       "      <td>Up</td>\n",
       "      <td>0</td>\n",
       "    </tr>\n",
       "    <tr>\n",
       "      <th>3</th>\n",
       "      <td>48</td>\n",
       "      <td>F</td>\n",
       "      <td>ASY</td>\n",
       "      <td>138</td>\n",
       "      <td>214</td>\n",
       "      <td>0</td>\n",
       "      <td>Normal</td>\n",
       "      <td>108</td>\n",
       "      <td>1</td>\n",
       "      <td>1.5</td>\n",
       "      <td>Flat</td>\n",
       "      <td>1</td>\n",
       "    </tr>\n",
       "    <tr>\n",
       "      <th>4</th>\n",
       "      <td>54</td>\n",
       "      <td>M</td>\n",
       "      <td>NAP</td>\n",
       "      <td>150</td>\n",
       "      <td>195</td>\n",
       "      <td>0</td>\n",
       "      <td>Normal</td>\n",
       "      <td>122</td>\n",
       "      <td>0</td>\n",
       "      <td>0.0</td>\n",
       "      <td>Up</td>\n",
       "      <td>0</td>\n",
       "    </tr>\n",
       "  </tbody>\n",
       "</table>\n",
       "</div>"
      ],
      "text/plain": [
       "   Age Sex ChestPainType  RestingBP  Cholesterol  FastingBS RestingECG  MaxHR  \\\n",
       "0   40   M           ATA        140          289          0     Normal    172   \n",
       "1   49   F           NAP        160          180          0     Normal    156   \n",
       "2   37   M           ATA        130          283          0         ST     98   \n",
       "3   48   F           ASY        138          214          0     Normal    108   \n",
       "4   54   M           NAP        150          195          0     Normal    122   \n",
       "\n",
       "   ExerciseAngina  Oldpeak ST_Slope  HeartDisease  \n",
       "0               0      0.0       Up             0  \n",
       "1               0      1.0     Flat             1  \n",
       "2               0      0.0       Up             0  \n",
       "3               1      1.5     Flat             1  \n",
       "4               0      0.0       Up             0  "
      ]
     },
     "execution_count": 15,
     "metadata": {},
     "output_type": "execute_result"
    }
   ],
   "source": [
    "## Multiple Columns to take into consideration:\n",
    "\n",
    "## Code yes/no binary columns to 1 for yes and 0 for no. \n",
    "\n",
    "heart_disease['ExerciseAngina'].replace({\"Y\":1, \"N\":0}, inplace = True)\n",
    "\n",
    "heart_disease.head()"
   ]
  },
  {
   "cell_type": "code",
   "execution_count": null,
   "id": "3aed5073",
   "metadata": {},
   "outputs": [],
   "source": []
  },
  {
   "cell_type": "markdown",
   "id": "fcd5e876",
   "metadata": {},
   "source": [
    "## Targets and Features"
   ]
  },
  {
   "cell_type": "code",
   "execution_count": 26,
   "id": "ef778643",
   "metadata": {},
   "outputs": [],
   "source": [
    "# Specifying target/feature variables\n",
    "\n",
    "target = 'HeartDisease'\n",
    "y = heart_disease[target]\n",
    "X = heart_disease.drop(target, axis = 1)"
   ]
  },
  {
   "cell_type": "markdown",
   "id": "20ff5b4b",
   "metadata": {},
   "source": [
    "## Train/Test Split"
   ]
  },
  {
   "cell_type": "code",
   "execution_count": 1,
   "id": "c4aa5d91",
   "metadata": {},
   "outputs": [
    {
     "ename": "NameError",
     "evalue": "name 'X' is not defined",
     "output_type": "error",
     "traceback": [
      "\u001b[0;31m---------------------------------------------------------------------------\u001b[0m",
      "\u001b[0;31mNameError\u001b[0m                                 Traceback (most recent call last)",
      "\u001b[0;32m<ipython-input-1-2257ebf50d7a>\u001b[0m in \u001b[0;36m<module>\u001b[0;34m\u001b[0m\n\u001b[1;32m     12\u001b[0m \u001b[0;34m\u001b[0m\u001b[0m\n\u001b[1;32m     13\u001b[0m \u001b[0;31m# Split into train and test. Until final stage, only focus on the train set.\u001b[0m\u001b[0;34m\u001b[0m\u001b[0;34m\u001b[0m\u001b[0;34m\u001b[0m\u001b[0m\n\u001b[0;32m---> 14\u001b[0;31m X_train, X_test, y_train, y_test = train_test_split(X,y,\n\u001b[0m\u001b[1;32m     15\u001b[0m                                                     \u001b[0mtest_size\u001b[0m \u001b[0;34m=\u001b[0m \u001b[0;36m0.2\u001b[0m\u001b[0;34m,\u001b[0m\u001b[0;34m\u001b[0m\u001b[0;34m\u001b[0m\u001b[0m\n\u001b[1;32m     16\u001b[0m                                                     random_state = 42)\n",
      "\u001b[0;31mNameError\u001b[0m: name 'X' is not defined"
     ]
    }
   ],
   "source": [
    "# Importing necessary packages\n",
    "from sklearn.model_selection import train_test_split\n",
    "from sklearn.preprocessing import StandardScaler\n",
    "from sklearn.preprocessing import OneHotEncoder\n",
    "from sklearn.pipeline import make_pipeline\n",
    "from sklearn.compose import make_column_transformer\n",
    "from sklearn.model_selection import GridSearchCV\n",
    "\n",
    "# Defining preprocessing functions\n",
    "scaler = StandardScaler()\n",
    "dummifier = OneHotEncoder(drop = 'if_binary')\n",
    "\n",
    "# Split into train and test. Until final stage, only focus on the train set.\n",
    "X_train, X_test, y_train, y_test = train_test_split(X,y,\n",
    "                                                    test_size = 0.2,\n",
    "                                                    random_state = 42)\n",
    "\n",
    "# Specify numbers and categories columns\n",
    "\n",
    "# Numbers\n",
    "num_cols = X.select_dtypes('number').columns\n",
    "num_trans = make_pipeline(scaler)\n",
    "\n",
    "# Categories\n",
    "cat_cols = X.select_dtypes('object').columns\n",
    "cat_trans = make_pipeline(dummifier)\n",
    "\n",
    "\n",
    "# Finalizing preprocessing by transforming columns into a single feature space.\n",
    "preprocessor = make_column_transformer((num_trans, num_cols),\n",
    "                                       (cat_trans, cat_cols),\n",
    ")\n",
    "# Create list of potential models to loop over\n",
    "from sklearn.linear_model import LogisticRegression\n",
    "from sklearn.ensemble import RandomForestClassifier\n",
    "from sklearn.svm import SVC\n",
    "from sklearn.neighbors import KNeighborsClassifier\n",
    "\n",
    "classifier = [LogisticRegression(), RandomForestClassifier(), SVC(), KNeighborsClassifier()]\n",
    "\n",
    "num_features = make_column_selector(dtype_include = 'number')\n",
    "num_transformer = make_pipeline(StandardScaler()\n",
    "    )\n",
    "\n",
    "#preprocessor = \n",
    "# Create pipeline by employing previously defined functions in pipeline\n",
    "# utlizing the Cross Validation function built into the GridSearch.\n",
    "\n",
    "\n",
    "##for i in classifier:\n",
    "    \n",
    "    #pipe = make_pipeline(preprocessor, i)\n",
    "    #grid = GridSearchCV(pipe, param_grid = {}, cv = 5, scoring = 'accuracy')\n",
    "    #grid.fit(X_train,y_train)\n",
    "    #best_score = grid.best_score_\n",
    "    #print(f'Classifying Model: {i},\\nScore: {best_score}\\n')"
   ]
  },
  {
   "cell_type": "markdown",
   "id": "95d6da53",
   "metadata": {},
   "source": [
    "## Comments: \n",
    "\n",
    "- Having tested different models by looping over them in the model selection phase, we see that the model with the best score (using CrossValidation) is the Supported Vector Model.\n",
    "- We are not fully done yet though. We can move on by tuning the Hyper Parameter of the GridSearch specified as param_grid."
   ]
  },
  {
   "cell_type": "markdown",
   "id": "18e12f9d",
   "metadata": {},
   "source": [
    "# Hyper Parameter Tuning"
   ]
  },
  {
   "cell_type": "code",
   "execution_count": 91,
   "id": "93141124",
   "metadata": {},
   "outputs": [
    {
     "name": "stdout",
     "output_type": "stream",
     "text": [
      "Classifying Model: SVC(),\n",
      "Accuracy Score: 0.8705526046034852\n",
      "Parameter: {'svc__C': 1}\n",
      "\n"
     ]
    }
   ],
   "source": [
    "# Importing necessary packages\n",
    "from sklearn.model_selection import train_test_split\n",
    "from sklearn.preprocessing import StandardScaler\n",
    "from sklearn.preprocessing import OneHotEncoder\n",
    "from sklearn.pipeline import make_pipeline\n",
    "from sklearn.compose import make_column_transformer\n",
    "from sklearn.model_selection import GridSearchCV\n",
    "\n",
    "\n",
    "# Defining preprocessing functions\n",
    "scaler = StandardScaler()\n",
    "dummifier = OneHotEncoder(drop = 'if_binary')\n",
    "\n",
    "# Split into train and test. Until final stage, only focus on the train set.\n",
    "X_train, X_test, y_train, y_test = train_test_split(X,y,\n",
    "                                                    test_size = 0.2,\n",
    "                                                    random_state = 42)\n",
    "\n",
    "# Specify numbers and categories columns\n",
    "\n",
    "# Numbers\n",
    "num_cols = X.select_dtypes('number').columns\n",
    "num_trans = make_pipeline(scaler)\n",
    "\n",
    "# Categories\n",
    "cat_cols = X.select_dtypes('object').columns\n",
    "cat_trans = make_pipeline(dummifier)\n",
    "\n",
    "\n",
    "# Finalizing preprocessing by transforming columns into a single feature space.\n",
    "preprocessor = make_column_transformer((num_trans, num_cols),\n",
    "                                       (cat_trans, cat_cols),\n",
    ")\n",
    "# Create list of potential models to loop over\n",
    "from sklearn.linear_model import LogisticRegression\n",
    "from sklearn.ensemble import RandomForestClassifier\n",
    "from sklearn.svm import SVC\n",
    "\n",
    "\n",
    "classifier = [LogisticRegression(), RandomForestClassifier(), SVC(), KNeighborsClassifier()]\n",
    "\n",
    "# Create pipeline by employing previously defined functions in pipeline\n",
    "# utlizing the Cross Validation function built into the GridSearch.\n",
    "\n",
    "\n",
    "# Importing necessary packages\n",
    "from sklearn.model_selection import train_test_split\n",
    "from sklearn.preprocessing import StandardScaler\n",
    "from sklearn.preprocessing import OneHotEncoder\n",
    "from sklearn.pipeline import make_pipeline\n",
    "from sklearn.compose import make_column_transformer\n",
    "from sklearn.model_selection import GridSearchCV\n",
    "\n",
    "# Defining preprocessing functions\n",
    "scaler = StandardScaler()\n",
    "dummifier = OneHotEncoder(drop = 'if_binary')\n",
    "\n",
    "# Split into train and test. Until final stage, only focus on the train set.\n",
    "X_train, X_test, y_train, y_test = train_test_split(X,y,\n",
    "                                                    test_size = 0.2,\n",
    "                                                    random_state = 42)\n",
    "\n",
    "# Specify numbers and categories columns\n",
    "\n",
    "# Numbers\n",
    "num_cols = X.select_dtypes('number').columns\n",
    "num_trans = make_pipeline(scaler)\n",
    "\n",
    "# Categories\n",
    "cat_cols = X.select_dtypes('object').columns\n",
    "cat_trans = make_pipeline(dummifier)\n",
    "\n",
    "\n",
    "# Finalizing preprocessing by transforming columns into a single feature space.\n",
    "preprocessor = make_column_transformer((num_trans, num_cols),\n",
    "                                       (cat_trans, cat_cols),\n",
    ")\n",
    "\n",
    "param_grid = {'svc__C': [0.1, 1, 10, 100, 1000]}\n",
    "classifier = SVC()\n",
    "\n",
    "# Create pipeline by employing previously defined functions in pipeline\n",
    "# utlizing the Cross Validation function built into the GridSearch.\n",
    "\n",
    "\n",
    "\n",
    "pipe = make_pipeline(preprocessor, classifier)\n",
    "grid = GridSearchCV(pipe, param_grid = param_grid, cv = 5,\n",
    "                    scoring = 'accuracy')\n",
    "grid.fit(X_train,y_train)\n",
    "best_score = grid.best_score_\n",
    "best_params = grid.best_params_\n",
    "\n",
    "print(f'Classifying Model: {classifier},\\nAccuracy Score: {best_score}\\nParameter: {best_params}\\n')"
   ]
  },
  {
   "cell_type": "markdown",
   "id": "6d7a1996",
   "metadata": {},
   "source": [
    "# Fitting and Evaluating"
   ]
  },
  {
   "cell_type": "markdown",
   "id": "0b1e4f7d",
   "metadata": {},
   "source": [
    "## Running Model on Test Data"
   ]
  },
  {
   "cell_type": "code",
   "execution_count": 206,
   "id": "92ef5ec6",
   "metadata": {},
   "outputs": [
    {
     "data": {
      "text/plain": [
       "0.8586956521739131"
      ]
     },
     "execution_count": 206,
     "metadata": {},
     "output_type": "execute_result"
    }
   ],
   "source": [
    "# Running model with test data. \n",
    "\n",
    "grid.score(X_test,y_test)"
   ]
  },
  {
   "cell_type": "code",
   "execution_count": 211,
   "id": "116feedc",
   "metadata": {},
   "outputs": [
    {
     "name": "stderr",
     "output_type": "stream",
     "text": [
      "/Users/jakobholmgren/opt/anaconda3/envs/machine-learning/lib/python3.9/site-packages/sklearn/utils/deprecation.py:87: FutureWarning: Function plot_confusion_matrix is deprecated; Function `plot_confusion_matrix` is deprecated in 1.0 and will be removed in 1.2. Use one of the class methods: ConfusionMatrixDisplay.from_predictions or ConfusionMatrixDisplay.from_estimator.\n",
      "  warnings.warn(msg, category=FutureWarning)\n"
     ]
    },
    {
     "data": {
      "text/plain": [
       "<sklearn.metrics._plot.confusion_matrix.ConfusionMatrixDisplay at 0x166f66ac0>"
      ]
     },
     "execution_count": 211,
     "metadata": {},
     "output_type": "execute_result"
    },
    {
     "data": {
      "image/png": "[encoded data removed]",
      "text/plain": [
       "<Figure size 432x288 with 2 Axes>"
      ]
     },
     "metadata": {},
     "output_type": "display_data"
    }
   ],
   "source": [
    "from sklearn.metrics import plot_confusion_matrix\n",
    "\n",
    "plot_confusion_matrix(grid.best_estimator_, X_test, y_test)"
   ]
  },
  {
   "cell_type": "markdown",
   "id": "eda10b1b",
   "metadata": {},
   "source": [
    "## Running Model on all Data"
   ]
  },
  {
   "cell_type": "code",
   "execution_count": 212,
   "id": "8c80da9d",
   "metadata": {},
   "outputs": [
    {
     "name": "stderr",
     "output_type": "stream",
     "text": [
      "/Users/jakobholmgren/opt/anaconda3/envs/machine-learning/lib/python3.9/site-packages/sklearn/utils/deprecation.py:87: FutureWarning: Function plot_confusion_matrix is deprecated; Function `plot_confusion_matrix` is deprecated in 1.0 and will be removed in 1.2. Use one of the class methods: ConfusionMatrixDisplay.from_predictions or ConfusionMatrixDisplay.from_estimator.\n",
      "  warnings.warn(msg, category=FutureWarning)\n"
     ]
    },
    {
     "data": {
      "text/plain": [
       "<sklearn.metrics._plot.confusion_matrix.ConfusionMatrixDisplay at 0x167528100>"
      ]
     },
     "execution_count": 212,
     "metadata": {},
     "output_type": "execute_result"
    },
    {
     "data": {
      "image/png": "[encoded data removed]",
      "text/plain": [
       "<Figure size 432x288 with 2 Axes>"
      ]
     },
     "metadata": {},
     "output_type": "display_data"
    }
   ],
   "source": [
    "from sklearn.metrics import plot_confusion_matrix\n",
    "\n",
    "plot_confusion_matrix(grid.best_estimator_, X, y)"
   ]
  },
  {
   "cell_type": "markdown",
   "id": "30524b75",
   "metadata": {},
   "source": [
    "# Refit best model on all data"
   ]
  },
  {
   "cell_type": "code",
   "execution_count": 219,
   "id": "522c85a7",
   "metadata": {},
   "outputs": [
    {
     "data": {
      "text/plain": [
       "Pipeline(steps=[('columntransformer',\n",
       "                 ColumnTransformer(transformers=[('pipeline-1',\n",
       "                                                  Pipeline(steps=[('standardscaler',\n",
       "                                                                   StandardScaler())]),\n",
       "                                                  Index(['Age', 'RestingBP', 'Cholesterol', 'FastingBS', 'MaxHR',\n",
       "       'ExerciseAngina', 'Oldpeak'],\n",
       "      dtype='object')),\n",
       "                                                 ('pipeline-2',\n",
       "                                                  Pipeline(steps=[('onehotencoder',\n",
       "                                                                   OneHotEncoder(drop='if_binary'))]),\n",
       "                                                  Index(['Sex', 'ChestPainType', 'RestingECG', 'ST_Slope'], dtype='object'))])),\n",
       "                ('svc', SVC(C=10))])"
      ]
     },
     "execution_count": 219,
     "metadata": {},
     "output_type": "execute_result"
    }
   ],
   "source": [
    "model = make_pipeline(preprocessor, SVC(C = 10))\n",
    "\n",
    "model.fit(X,y)"
   ]
  },
  {
   "cell_type": "code",
   "execution_count": null,
   "id": "403ccb8f",
   "metadata": {},
   "outputs": [],
   "source": []
  }
 ],
 "metadata": {
  "kernelspec": {
   "display_name": "Python 3",
   "language": "python",
   "name": "python3"
  },
  "language_info": {
   "codemirror_mode": {
    "name": "ipython",
    "version": 3
   },
   "file_extension": ".py",
   "mimetype": "text/x-python",
   "name": "python",
   "nbconvert_exporter": "python",
   "pygments_lexer": "ipython3",
   "version": "3.8.8"
  },
  "toc": {
   "base_numbering": 1,
   "nav_menu": {},
   "number_sections": true,
   "sideBar": true,
   "skip_h1_title": false,
   "title_cell": "Table of Contents",
   "title_sidebar": "Contents",
   "toc_cell": false,
   "toc_position": {},
   "toc_section_display": true,
   "toc_window_display": true
  }
 },
 "nbformat": 4,
 "nbformat_minor": 5
}
